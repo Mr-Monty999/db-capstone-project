{
 "cells": [
  {
   "cell_type": "code",
   "execution_count": 54,
   "id": "eac098bf-82f5-49a3-b439-d924ca4aebd6",
   "metadata": {},
   "outputs": [
    {
     "name": "stdout",
     "output_type": "stream",
     "text": [
      "Requirement already satisfied: mysql-connector-python in c:\\python312\\lib\\site-packages (8.3.0)\n"
     ]
    }
   ],
   "source": [
    "!pip install mysql-connector-python"
   ]
  },
  {
   "cell_type": "code",
   "execution_count": 55,
   "id": "253a27e4-aad1-4db5-a5d2-37f370e003e6",
   "metadata": {},
   "outputs": [],
   "source": [
    "import mysql.connector as connector"
   ]
  },
  {
   "cell_type": "code",
   "execution_count": 56,
   "id": "3b93c61a-32bc-43b2-84aa-61bc3b2fce12",
   "metadata": {},
   "outputs": [],
   "source": [
    "connection = connector.connect(user = \"root\", password = \"\",db = \"little_lemon_capstone\")"
   ]
  },
  {
   "cell_type": "code",
   "execution_count": 57,
   "id": "3bb9a388-e54f-44a3-b2d0-7a73528c01b1",
   "metadata": {},
   "outputs": [],
   "source": [
    "cursor = connection.cursor()"
   ]
  },
  {
   "cell_type": "code",
   "execution_count": 58,
   "id": "7baa4c35-bcd1-4acd-a855-bc354ac10347",
   "metadata": {},
   "outputs": [],
   "source": [
    "show_tables_query = \"SHOW tables\" "
   ]
  },
  {
   "cell_type": "code",
   "execution_count": 59,
   "id": "1769039a-bba1-4038-8283-1c3a904097f9",
   "metadata": {},
   "outputs": [],
   "source": [
    "cursor.execute(show_tables_query)"
   ]
  },
  {
   "cell_type": "code",
   "execution_count": 60,
   "id": "9cc05dac-d573-4f99-8114-8227908f3386",
   "metadata": {},
   "outputs": [],
   "source": [
    "results = cursor.fetchall()"
   ]
  },
  {
   "cell_type": "code",
   "execution_count": 61,
   "id": "2e2d043b-7be1-4302-bd3f-59578add90f5",
   "metadata": {},
   "outputs": [
    {
     "name": "stdout",
     "output_type": "stream",
     "text": [
      "[('bookings',), ('customers',), ('fourtablesinfo',), ('items',), ('menu',), ('menuitemsbiggergreatertwoquantity',), ('order_delivery_status',), ('order_item',), ('orders',), ('ordersview',), ('staff',)]\n"
     ]
    }
   ],
   "source": [
    "print(results)"
   ]
  },
  {
   "cell_type": "code",
   "execution_count": 62,
   "id": "e52405be-640d-455c-86d1-a3925d03c96e",
   "metadata": {},
   "outputs": [],
   "source": [
    "get_customers_query = \"\"\"SELECT customers.name,customers.phone,customers.email,customers.address FROM customers \n",
    "INNER JOIN orders ON customers.id = orders.customer_Id\n",
    "WHERE orders.total_cost > 60;\"\"\""
   ]
  },
  {
   "cell_type": "code",
   "execution_count": 63,
   "id": "a13c191f-8485-48b3-b484-e4f508a02881",
   "metadata": {},
   "outputs": [],
   "source": [
    "cursor.execute(get_customers_query)"
   ]
  },
  {
   "cell_type": "code",
   "execution_count": 64,
   "id": "66d34ef2-d1a5-44cb-9c1e-d2fbf3caf22e",
   "metadata": {},
   "outputs": [],
   "source": [
    "results = cursor.fetchall()"
   ]
  },
  {
   "cell_type": "code",
   "execution_count": 65,
   "id": "f11ad5ea-eec9-4269-9d2c-0991aacafb00",
   "metadata": {},
   "outputs": [
    {
     "name": "stdout",
     "output_type": "stream",
     "text": [
      "[('John Doe', '123-456-7890', 'john@example.com', '123 Main St'), ('Alice Smith', '456-789-0123', 'alice@example.com', '456 Elm St')]\n"
     ]
    }
   ],
   "source": [
    "print(results)"
   ]
  },
  {
   "cell_type": "code",
   "execution_count": null,
   "id": "a4332575-b4d9-4b8c-bd2d-cbbcad45faf8",
   "metadata": {},
   "outputs": [],
   "source": []
  }
 ],
 "metadata": {
  "kernelspec": {
   "display_name": "Python 3 (ipykernel)",
   "language": "python",
   "name": "python3"
  },
  "language_info": {
   "codemirror_mode": {
    "name": "ipython",
    "version": 3
   },
   "file_extension": ".py",
   "mimetype": "text/x-python",
   "name": "python",
   "nbconvert_exporter": "python",
   "pygments_lexer": "ipython3",
   "version": "3.12.1"
  }
 },
 "nbformat": 4,
 "nbformat_minor": 5
}
